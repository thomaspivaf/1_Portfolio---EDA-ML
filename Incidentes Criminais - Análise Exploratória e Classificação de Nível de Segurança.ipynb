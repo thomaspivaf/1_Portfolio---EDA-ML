{
 "cells": [
  {
   "cell_type": "markdown",
   "metadata": {},
   "source": [
    "# Análise e Classificação de Dados de Ocorrências Policiais\n",
    "Análise Exploratória e criação de algoritmo de classificação de grau de segurança das divisões residenciais para a cidade de Cary (North Carolina/EUA)."
   ]
  },
  {
   "cell_type": "markdown",
   "metadata": {},
   "source": [
    "Link do dataset:https://data.opendatasoft.com/explore/dataset/cpd-incidents%40townofcary/information/?disjunctive.crime_category&disjunctive.crime_type&disjunctive.crimeday&disjunctive.district&disjunctive.offensecategory&disjunctive.violentproperty&disjunctive.total_incidents"
   ]
  },
  {
   "cell_type": "markdown",
   "metadata": {},
   "source": [
    "### Parte 0 - Importando pacotes"
   ]
  },
  {
   "cell_type": "code",
   "execution_count": 1,
   "metadata": {},
   "outputs": [],
   "source": [
    "import numpy as np\n",
    "import pandas as pd\n",
    "import matplotlib\n",
    "import matplotlib.pyplot as plt\n",
    "import seaborn as sb\n",
    "import colorsys\n",
    "plt.style.use('seaborn-talk')\n",
    "import warnings\n",
    "warnings.filterwarnings(\"ignore\")"
   ]
  },
  {
   "cell_type": "markdown",
   "metadata": {},
   "source": [
    "### Chamando o documento de ocorrências"
   ]
  },
  {
   "cell_type": "code",
   "execution_count": 2,
   "metadata": {},
   "outputs": [],
   "source": [
    "df = pd.read_csv(\"cpd-incidents.csv\", sep = \";\")"
   ]
  },
  {
   "cell_type": "markdown",
   "metadata": {},
   "source": [
    "### Parte 1 - Se familiarizando com o dataset"
   ]
  },
  {
   "cell_type": "code",
   "execution_count": 3,
   "metadata": {},
   "outputs": [
    {
     "name": "stdout",
     "output_type": "stream",
     "text": [
      "  Crime_Category          Crime_Type  UCR Map_Reference  Incident_Number  \\\n",
      "0      ALL OTHER  ALL OTHER OFFENSES  90Z          P028         14006070   \n",
      "1      ALL OTHER  ALL OTHER OFFENSES  90Z          P083         11004470   \n",
      "2      ALL OTHER  ALL OTHER OFFENSES  90Z          P083         11008736   \n",
      "3      ALL OTHER  ALL OTHER OFFENSES  90Z          P083         13005574   \n",
      "4      ALL OTHER  ALL OTHER OFFENSES  90Z          P083         14003511   \n",
      "\n",
      "                   Date_From     newdate From_Time                    Date_To  \\\n",
      "0  2014-07-27T03:30:34-04:00  2014-07-27  03:30:34  2014-07-27T03:30:35-04:00   \n",
      "1  2011-06-18T01:23:00-04:00  2011-06-18  01:23:00  2011-06-18T01:24:00-04:00   \n",
      "2  2011-10-01T12:01:00-04:00  2011-10-01  12:01:00  2011-11-01T12:43:00-04:00   \n",
      "3  2013-07-03T12:02:00-04:00  2013-07-03  12:02:00  2013-07-03T12:05:00-04:00   \n",
      "4  2014-05-03T23:00:00-04:00  2014-05-03  23:00:00  2014-05-04T06:48:00-04:00   \n",
      "\n",
      "    To_Time  ... phxRecordStatus PhxCommunity PhxStatus Record  \\\n",
      "0  03:30:35  ...             NaN           No       NaN  12885   \n",
      "1  01:24:00  ...             NaN           No       NaN  12894   \n",
      "2  12:43:00  ...          Active          Yes    Active  12895   \n",
      "3  12:05:00  ...          Active          Yes    Active  12917   \n",
      "4  06:48:00  ...             NaN           No       NaN  12920   \n",
      "\n",
      "      OffenseCategory ViolentProperty     timeframe  domestic  \\\n",
      "0  All Other Offenses       All Other  Out of Range         N   \n",
      "1  All Other Offenses       All Other  Out of Range         N   \n",
      "2  All Other Offenses       All Other  Out of Range         Y   \n",
      "3  All Other Offenses       All Other  Out of Range         Y   \n",
      "4  All Other Offenses       All Other  Out of Range         N   \n",
      "\n",
      "   Total_Incidents    year  \n",
      "0                1  2014.0  \n",
      "1                1  2011.0  \n",
      "2                1  2011.0  \n",
      "3                1  2013.0  \n",
      "4                1  2014.0  \n",
      "\n",
      "[5 rows x 37 columns]\n"
     ]
    }
   ],
   "source": [
    "#Verificar o começo da tabela\n",
    "print(df.head(5))"
   ]
  },
  {
   "cell_type": "code",
   "execution_count": 4,
   "metadata": {},
   "outputs": [
    {
     "name": "stdout",
     "output_type": "stream",
     "text": [
      "<class 'pandas.core.frame.DataFrame'>\n",
      "RangeIndex: 101599 entries, 0 to 101598\n",
      "Data columns (total 37 columns):\n",
      " #   Column                   Non-Null Count   Dtype  \n",
      "---  ------                   --------------   -----  \n",
      " 0   Crime_Category           101599 non-null  object \n",
      " 1   Crime_Type               101599 non-null  object \n",
      " 2   UCR                      101599 non-null  object \n",
      " 3   Map_Reference            95350 non-null   object \n",
      " 4   Incident_Number          101599 non-null  int64  \n",
      " 5   Date_From                101591 non-null  object \n",
      " 6   newdate                  101591 non-null  object \n",
      " 7   From_Time                101591 non-null  object \n",
      " 8   Date_To                  101593 non-null  object \n",
      " 9   To_Time                  101593 non-null  object \n",
      " 10  CrimeDay                 101593 non-null  object \n",
      " 11  GeoCode                  101581 non-null  object \n",
      " 12  Location_Category        101599 non-null  object \n",
      " 13  District                 95724 non-null   object \n",
      " 14  Beat_Number              101599 non-null  object \n",
      " 15  Location                 95537 non-null   object \n",
      " 16  Id                       101599 non-null  int64  \n",
      " 17  Lat                      95537 non-null   float64\n",
      " 18  Lon                      95537 non-null   float64\n",
      " 19  Time_To                  101593 non-null  object \n",
      " 20  Time_From                101591 non-null  object \n",
      " 21  chrgcnt                  0 non-null       float64\n",
      " 22  Neighborhd_ID            14346 non-null   object \n",
      " 23  Apartment_Complex        14340 non-null   object \n",
      " 24  Residential_Subdivision  87718 non-null   object \n",
      " 25  Subdivisn_ID             87854 non-null   object \n",
      " 26  activity_date            5356 non-null    object \n",
      " 27  phxRecordStatus          7269 non-null    object \n",
      " 28  PhxCommunity             101599 non-null  object \n",
      " 29  PhxStatus                14330 non-null   object \n",
      " 30  Record                   101599 non-null  int64  \n",
      " 31  OffenseCategory          100405 non-null  object \n",
      " 32  ViolentProperty          100405 non-null  object \n",
      " 33  timeframe                101599 non-null  object \n",
      " 34  domestic                 100552 non-null  object \n",
      " 35  Total_Incidents          101599 non-null  int64  \n",
      " 36  year                     101591 non-null  float64\n",
      "dtypes: float64(4), int64(4), object(29)\n",
      "memory usage: 28.7+ MB\n"
     ]
    }
   ],
   "source": [
    "#Verificar os tipos de dados das colunas\n",
    "df.info()"
   ]
  },
  {
   "cell_type": "code",
   "execution_count": 5,
   "metadata": {},
   "outputs": [
    {
     "name": "stdout",
     "output_type": "stream",
     "text": [
      "Número de nulos\n",
      "Crime_Category                  0\n",
      "Crime_Type                      0\n",
      "UCR                             0\n",
      "Map_Reference                6249\n",
      "Incident_Number                 0\n",
      "Date_From                       8\n",
      "newdate                         8\n",
      "From_Time                       8\n",
      "Date_To                         6\n",
      "To_Time                         6\n",
      "CrimeDay                        6\n",
      "GeoCode                        18\n",
      "Location_Category               0\n",
      "District                     5875\n",
      "Beat_Number                     0\n",
      "Location                     6062\n",
      "Id                              0\n",
      "Lat                          6062\n",
      "Lon                          6062\n",
      "Time_To                         6\n",
      "Time_From                       8\n",
      "chrgcnt                    101599\n",
      "Neighborhd_ID               87253\n",
      "Apartment_Complex           87259\n",
      "Residential_Subdivision     13881\n",
      "Subdivisn_ID                13745\n",
      "activity_date               96243\n",
      "phxRecordStatus             94330\n",
      "PhxCommunity                    0\n",
      "PhxStatus                   87269\n",
      "Record                          0\n",
      "OffenseCategory              1194\n",
      "ViolentProperty              1194\n",
      "timeframe                       0\n",
      "domestic                     1047\n",
      "Total_Incidents                 0\n",
      "year                            8\n",
      "dtype: int64\n"
     ]
    }
   ],
   "source": [
    "#Verificar nulos\n",
    "print(\"Número de nulos\")\n",
    "print(df.isnull().sum())"
   ]
  },
  {
   "cell_type": "code",
   "execution_count": 6,
   "metadata": {},
   "outputs": [
    {
     "name": "stdout",
     "output_type": "stream",
     "text": [
      "       Incident_Number            Id           Lat           Lon  chrgcnt  \\\n",
      "count     1.015990e+05  1.015990e+05  95537.000000  95537.000000      0.0   \n",
      "mean      1.027556e+07  1.027556e+07     35.777356    -78.791755      NaN   \n",
      "std       5.921235e+06  5.921235e+06      0.031577      0.042232      NaN   \n",
      "min       2.000000e+00  2.000000e+00     35.644534    -78.982471      NaN   \n",
      "25%       5.004786e+06  5.004786e+06     35.760375    -78.808344      NaN   \n",
      "50%       1.100085e+07  1.100085e+07     35.774611    -78.782401      NaN   \n",
      "75%       1.500907e+07  1.500907e+07     35.794590    -78.762004      NaN   \n",
      "max       2.000932e+07  2.000932e+07     35.895545    -78.639035      NaN   \n",
      "\n",
      "              Record  Total_Incidents           year  \n",
      "count  101599.000000         101599.0  101591.000000  \n",
      "mean    58827.678658              1.0    2010.246301  \n",
      "std     32925.169885              0.0       5.925873  \n",
      "min         2.000000              1.0    1977.000000  \n",
      "25%     31193.500000              1.0    2005.000000  \n",
      "50%     58812.000000              1.0    2011.000000  \n",
      "75%     85763.500000              1.0    2015.000000  \n",
      "max    116814.000000              1.0    2020.000000  \n"
     ]
    }
   ],
   "source": [
    "#Resumo estatístico\n",
    "print(df.describe())"
   ]
  },
  {
   "cell_type": "code",
   "execution_count": 7,
   "metadata": {},
   "outputs": [],
   "source": [
    "#Deletando colunas com mais de 10 mil nulos\n",
    "df = df.drop(columns=['chrgcnt','Neighborhd_ID','Apartment_Complex','Subdivisn_ID','activity_date','phxRecordStatus','PhxStatus'], axis=1)"
   ]
  },
  {
   "cell_type": "code",
   "execution_count": 8,
   "metadata": {},
   "outputs": [],
   "source": [
    "#Deletando linhas com nulos\n",
    "df = df.dropna()"
   ]
  },
  {
   "cell_type": "code",
   "execution_count": 9,
   "metadata": {},
   "outputs": [],
   "source": [
    "#Deletando linhas com ano anteriores à 2000\n",
    "#Isso foi o resultado de verificar a distribuição dos anos e verificar que dados se concentram\n",
    "#entre 2001 e 2019\n",
    "df = df[df.year != 2020]\n",
    "df = df[df.year != 2000]\n",
    "df = df[df.year != 1999]\n",
    "df = df[df.year != 1998]\n",
    "df = df[df.year != 1997]\n",
    "df = df[df.year != 1994]\n",
    "df = df[df.year != 1977]\n",
    "df = df[df.year != 1988]"
   ]
  },
  {
   "cell_type": "code",
   "execution_count": 10,
   "metadata": {},
   "outputs": [],
   "source": [
    "#Transformando anos em inteiros\n",
    "df['year'] = df['year'].astype('int')"
   ]
  },
  {
   "cell_type": "code",
   "execution_count": 11,
   "metadata": {},
   "outputs": [],
   "source": [
    "#Adicionando coluna de numero da semana\n",
    "\n",
    "#Separando os rótulos da coluna weekdays\n",
    "weekdays = [\n",
    "    (df['CrimeDay'] == 'SUNDAY'),\n",
    "(df['CrimeDay'] == 'MONDAY'),\n",
    "(df['CrimeDay'] == 'TUESDAY'),\n",
    "(df['CrimeDay'] == 'WEDNESDAY'),\n",
    "(df['CrimeDay'] == 'THURSDAY'),\n",
    "(df['CrimeDay'] == 'FRIDAY'),\n",
    "(df['CrimeDay'] == 'SATURDAY')\n",
    "]\n",
    "#Criando os novos rótulos\n",
    "weeknum = [1,2,3,4,5,6,7]\n",
    "\n",
    "#Aplicando a mudança\n",
    "df['Week_Day'] = np.select(weekdays,weeknum)"
   ]
  },
  {
   "cell_type": "code",
   "execution_count": 12,
   "metadata": {},
   "outputs": [
    {
     "name": "stdout",
     "output_type": "stream",
     "text": [
      "  Crime_Category          Crime_Type  UCR Map_Reference  Incident_Number  \\\n",
      "0      ALL OTHER  ALL OTHER OFFENSES  90Z          P028         14006070   \n",
      "2      ALL OTHER  ALL OTHER OFFENSES  90Z          P083         11008736   \n",
      "3      ALL OTHER  ALL OTHER OFFENSES  90Z          P083         13005574   \n",
      "4      ALL OTHER  ALL OTHER OFFENSES  90Z          P083         14003511   \n",
      "5      ALL OTHER  ALL OTHER OFFENSES  90Z          P083         14003914   \n",
      "\n",
      "                   Date_From     newdate From_Time                    Date_To  \\\n",
      "0  2014-07-27T03:30:34-04:00  2014-07-27  03:30:34  2014-07-27T03:30:35-04:00   \n",
      "2  2011-10-01T12:01:00-04:00  2011-10-01  12:01:00  2011-11-01T12:43:00-04:00   \n",
      "3  2013-07-03T12:02:00-04:00  2013-07-03  12:02:00  2013-07-03T12:05:00-04:00   \n",
      "4  2014-05-03T23:00:00-04:00  2014-05-03  23:00:00  2014-05-04T06:48:00-04:00   \n",
      "5  2014-05-16T19:25:00-04:00  2014-05-16  19:25:00  2014-05-16T20:50:00-04:00   \n",
      "\n",
      "    To_Time  ...      Residential_Subdivision PhxCommunity Record  \\\n",
      "0  03:30:35  ...             HILLSDALE FOREST           No  12885   \n",
      "2  12:43:00  ...         WOODCREEK APARTMENTS          Yes  12895   \n",
      "3  12:05:00  ...                 AURELLA CARY          Yes  12917   \n",
      "4  06:48:00  ...  SOUTH HILLS SHOPPING CENTER           No  12920   \n",
      "5  20:50:00  ...         WOODCREEK APARTMENTS          Yes  12921   \n",
      "\n",
      "      OffenseCategory ViolentProperty     timeframe  domestic  \\\n",
      "0  All Other Offenses       All Other  Out of Range         N   \n",
      "2  All Other Offenses       All Other  Out of Range         Y   \n",
      "3  All Other Offenses       All Other  Out of Range         Y   \n",
      "4  All Other Offenses       All Other  Out of Range         N   \n",
      "5  All Other Offenses       All Other  Out of Range         N   \n",
      "\n",
      "   Total_Incidents  year Week_Day  \n",
      "0                1  2014        1  \n",
      "2                1  2011        3  \n",
      "3                1  2013        4  \n",
      "4                1  2014        1  \n",
      "5                1  2014        6  \n",
      "\n",
      "[5 rows x 31 columns]\n"
     ]
    }
   ],
   "source": [
    "#Verificando o progresso feito\n",
    "print(df.head(5))"
   ]
  },
  {
   "cell_type": "code",
   "execution_count": 13,
   "metadata": {},
   "outputs": [
    {
     "name": "stdout",
     "output_type": "stream",
     "text": [
      "Qual é o número de categorias de crime?\n",
      "7\n",
      " \n",
      "Quais são as categorias de crimes com maior incidência?\n",
      "ALL OTHER              47265\n",
      "LARCENY                27488\n",
      "BURGLARY                6746\n",
      "AGGRAVATED ASSAULT      2052\n",
      "MOTOR VEHICLE THEFT     1721\n",
      "ARSON                    139\n",
      "MURDER                    19\n",
      "Name: Crime_Category, dtype: int64\n",
      " \n",
      "Qual é o número de tipos de crime?\n",
      "250\n",
      " \n",
      "Quais são os tipos de crimes com maior incidência?\n",
      "LARCENY - ALL OTHER LARCENY       9369\n",
      "LARCENY - FROM MOTOR VEHICLE      8216\n",
      "LARCENY - SHOPLIFTING             6424\n",
      "VANDALISM                         5487\n",
      "BURGLARY - FORCIBLE ENTRY         4434\n",
      "SIMPLE PHYSICAL ASSAULT           3526\n",
      "VANDALISM - DAMAGE TO PROPERTY    3116\n",
      "FRAUD - CREDIT CARD/ATM           2401\n",
      "FRAUD - ALL OTHER                 2189\n",
      "ASSAULT - SIMPLE - ALL OTHER      1864\n",
      "Name: Crime_Type, dtype: int64\n",
      " \n",
      "Quais são as maiores categorias de ofensa?\n",
      "Larceny                27454\n",
      "All Other Offenses     11420\n",
      "Vandalism               8944\n",
      "Fraud                   8018\n",
      "Simple Assault          7288\n",
      "Burglary                6746\n",
      "Drugs                   4031\n",
      "DUI                     1738\n",
      "Motor Vehicle Theft     1721\n",
      "Traffic Except DWI      1489\n",
      "Name: OffenseCategory, dtype: int64\n",
      " \n",
      "Quais são os dias com maior incidência de crimes?\n",
      "MONDAY       12820\n",
      "FRIDAY       12813\n",
      "WEDNESDAY    12345\n",
      "SATURDAY     12269\n",
      "THURSDAY     12064\n",
      "TUESDAY      11931\n",
      "SUNDAY       11188\n",
      "Name: CrimeDay, dtype: int64\n",
      " \n",
      "Qual é o número de subdivisões?\n",
      "909\n",
      " \n",
      "Quais são as regiões com maior incidência de crimes?\n",
      "CARY TOWNE CENTER               4606\n",
      "TCAP ZONE                       3699\n",
      "SOUTHEAST ZONE                  2004\n",
      "CROSSROADS PLAZA SHOP CENTER    1994\n",
      "CENTRAL ZONE                    1764\n",
      "SOUTH HILLS SHOPPING CENTER     1735\n",
      "CRESCENT COMMONS SHOP CENTER    1733\n",
      "CENTRUM AT CROSSROADS           1185\n",
      "WALNUT PLAZA                    1118\n",
      "CARY VILLAGE SQUARE              966\n",
      "Name: Residential_Subdivision, dtype: int64\n",
      " \n"
     ]
    }
   ],
   "source": [
    "#Respondendo perguntas básicas sobre o dataset\n",
    "print('Qual é o número de categorias de crime?')\n",
    "print(df['Crime_Category'].nunique())\n",
    "print(' ')\n",
    "print('Quais são as categorias de crimes com maior incidência?')\n",
    "print(df['Crime_Category'].value_counts().head(10))\n",
    "print(' ')\n",
    "print('Qual é o número de tipos de crime?')\n",
    "print(df['Crime_Type'].nunique())\n",
    "print(' ')\n",
    "print('Quais são os tipos de crimes com maior incidência?')\n",
    "print(df['Crime_Type'].value_counts().head(10))\n",
    "print(' ')\n",
    "print('Quais são as maiores categorias de ofensa?')\n",
    "print(df['OffenseCategory'].value_counts().head(10))\n",
    "print(' ')\n",
    "print('Quais são os dias com maior incidência de crimes?')\n",
    "print(df['CrimeDay'].value_counts().head(7))\n",
    "print(' ')\n",
    "print('Qual é o número de subdivisões?')\n",
    "print(df['Residential_Subdivision'].nunique())\n",
    "print(' ')\n",
    "print('Quais são as regiões com maior incidência de crimes?')\n",
    "print(df['Residential_Subdivision'].value_counts().head(10))\n",
    "print(' ')"
   ]
  },
  {
   "cell_type": "markdown",
   "metadata": {},
   "source": [
    "### Primeiras visualizações"
   ]
  },
  {
   "cell_type": "code",
   "execution_count": 14,
   "metadata": {},
   "outputs": [],
   "source": [
    "#Criando gráfico de Pizza das Categorias de Crime\n",
    "# Definindo a quantidade\n",
    "labels = df.Crime_Category.value_counts().index\n",
    "num = len(df.Crime_Category.value_counts().index)"
   ]
  },
  {
   "cell_type": "code",
   "execution_count": 15,
   "metadata": {},
   "outputs": [],
   "source": [
    "# Estabelecendo a lista de cores\n",
    "listaHSV = [(x*1.0/num, 0.5, 0.5) for x in range(num)]\n",
    "listaRGB = list(map(lambda x: colorsys.hsv_to_rgb(*x), listaHSV))"
   ]
  },
  {
   "cell_type": "code",
   "execution_count": 16,
   "metadata": {},
   "outputs": [
    {
     "data": {
      "image/png": "[encoded data removed]",
      "text/plain": [
       "<Figure size 748.8x514.8 with 1 Axes>"
      ]
     },
     "metadata": {},
     "output_type": "display_data"
    }
   ],
   "source": [
    "# Gráfico de Pizza 1\n",
    "fatias, texto, autotextos = plt.pie(df.Crime_Category.value_counts().head(5), autopct='%1.1f%%',startangle = 90)\n",
    "plt.axes().set_aspect('equal', 'datalim')\n",
    "plt.legend(fatias, labels, loc=\"center left\", bbox_to_anchor=(1, 0, 0.5, 1))\n",
    "plt.title(\"Frequência de ocorrência dos Top 5 crimes por categoria\")\n",
    "plt.show()"
   ]
  },
  {
   "cell_type": "code",
   "execution_count": 17,
   "metadata": {},
   "outputs": [
    {
     "data": {
      "image/png": "[encoded data removed]",
      "text/plain": [
       "<Figure size 748.8x514.8 with 1 Axes>"
      ]
     },
     "metadata": {},
     "output_type": "display_data"
    }
   ],
   "source": [
    "#Criando gráfico de Pizza das Tipos de Crime\n",
    "# Definindo a quantidade 2\n",
    "labels1 = df.Crime_Type.value_counts().index\n",
    "num1 = len(df.Crime_Type.value_counts().index)\n",
    "\n",
    "# Gráfico de Pizza 2\n",
    "fatias1, texto1, autotextos1 = plt.pie(df.Crime_Type.value_counts().head(5), autopct='%1.1f%%',startangle = 90)\n",
    "plt.axes().set_aspect('equal', 'datalim')\n",
    "plt.legend(fatias1, labels1,  loc=\"center left\", bbox_to_anchor=(1, 0, 0.5, 1))\n",
    "plt.title(\"Frequência de ocorrência dos Top 5 crimes por tipo\")\n",
    "plt.show()"
   ]
  },
  {
   "cell_type": "code",
   "execution_count": 18,
   "metadata": {},
   "outputs": [
    {
     "data": {
      "image/png": "[encoded data removed]",
      "text/plain": [
       "<Figure size 748.8x514.8 with 1 Axes>"
      ]
     },
     "metadata": {},
     "output_type": "display_data"
    }
   ],
   "source": [
    "#Criando gráfico de Pizza das Divisões Residenciais\n",
    "# Definindo a quantidade 3\n",
    "labels2 = df.Residential_Subdivision.value_counts().index\n",
    "num2 = len(df.Residential_Subdivision.value_counts().index)\n",
    "\n",
    "# Gráfico de Pizza 3\n",
    "fatias2, texto2, autotextos2 = plt.pie(df.Residential_Subdivision.value_counts().head(5), autopct='%1.1f%%',startangle = 90)\n",
    "plt.axes().set_aspect('equal', 'datalim')\n",
    "plt.legend(fatias2, labels2,  loc=\"center left\", bbox_to_anchor=(1, 0, 0.5, 1))\n",
    "plt.title(\"Frequência de ocorrência dos Top 5 Locais\")\n",
    "plt.show()"
   ]
  },
  {
   "cell_type": "code",
   "execution_count": 19,
   "metadata": {},
   "outputs": [
    {
     "data": {
      "image/png": "[encoded data removed]",
      "text/plain": [
       "<Figure size 748.8x514.8 with 1 Axes>"
      ]
     },
     "metadata": {
      "needs_background": "light"
     },
     "output_type": "display_data"
    }
   ],
   "source": [
    "#Histograma de ocorrências ao longo dos anos\n",
    "y = len(df.year.value_counts().index)\n",
    "df.year.hist(bins = 70)\n",
    "plt.xlabel(\"Anos\")\n",
    "plt.ylabel(\"Número de ocorrências\")\n",
    "plt.title(\"Ocorrência de crimes ao longo dos anos\")\n",
    "plt.show()"
   ]
  },
  {
   "cell_type": "code",
   "execution_count": 20,
   "metadata": {},
   "outputs": [
    {
     "data": {
      "image/png": "[encoded data removed]",
      "text/plain": [
       "<Figure size 748.8x514.8 with 1 Axes>"
      ]
     },
     "metadata": {
      "needs_background": "light"
     },
     "output_type": "display_data"
    }
   ],
   "source": [
    "#Histograma de ocorrências ao longo dos dias da semana\n",
    "y1 = len(df.Week_Day.value_counts().index)\n",
    "df.Week_Day.hist(bins = 70)\n",
    "plt.xlabel(\"Dias da Semana\")\n",
    "plt.ylabel(\"Número de ocorrências\")\n",
    "plt.title(\"Ocorrência de crimes ao longo da semana (TOTAL)\")\n",
    "plt.show()"
   ]
  },
  {
   "cell_type": "markdown",
   "metadata": {},
   "source": [
    "### Etapa 2 - Segmentação\n",
    "O objetivo é criar um dataset com as Subdivisões Residenciais como index e traçar o nivel de segurança de cada uma das localidades"
   ]
  },
  {
   "cell_type": "code",
   "execution_count": 21,
   "metadata": {},
   "outputs": [],
   "source": [
    "#Criando um dataframe separado para manipulações\n",
    "total_crimes = df['Residential_Subdivision'].value_counts()\n",
    "df_class = pd.DataFrame(total_crimes)"
   ]
  },
  {
   "cell_type": "code",
   "execution_count": 22,
   "metadata": {},
   "outputs": [
    {
     "name": "stdout",
     "output_type": "stream",
     "text": [
      "                              Residential_Subdivision\n",
      "CARY TOWNE CENTER                                4606\n",
      "TCAP ZONE                                        3699\n",
      "SOUTHEAST ZONE                                   2004\n",
      "CROSSROADS PLAZA SHOP CENTER                     1994\n",
      "CENTRAL ZONE                                     1764\n"
     ]
    }
   ],
   "source": [
    "#Verificando a tabela criada\n",
    "print(df_class.head())"
   ]
  },
  {
   "cell_type": "code",
   "execution_count": 23,
   "metadata": {},
   "outputs": [],
   "source": [
    "#Adicionando colunas para os crimes\n",
    "#As variáveis criadas contarão por subdivisão quando o crime delimitado ocorre\n",
    "crime1 = df.groupby('Residential_Subdivision').Crime_Type.value_counts().unstack(fill_value=0).loc[:,'LARCENY - ALL OTHER LARCENY']\n",
    "crime2 = df.groupby('Residential_Subdivision').Crime_Type.value_counts().unstack(fill_value=0).loc[:,'LARCENY - FROM MOTOR VEHICLE']\n",
    "crime3 = df.groupby('Residential_Subdivision').Crime_Type.value_counts().unstack(fill_value=0).loc[:,'LARCENY - SHOPLIFTING']\n",
    "crime4 = df.groupby('Residential_Subdivision').Crime_Type.value_counts().unstack(fill_value=0).loc[:,'VANDALISM']\n",
    "crime5 = df.groupby('Residential_Subdivision').Crime_Type.value_counts().unstack(fill_value=0).loc[:,'BURGLARY - FORCIBLE ENTRY']\n",
    "crime6 = df.groupby('Residential_Subdivision').Crime_Type.value_counts().unstack(fill_value=0).loc[:,'SIMPLE PHYSICAL ASSAULT']\n",
    "crime7 = df.groupby('Residential_Subdivision').Crime_Type.value_counts().unstack(fill_value=0).loc[:,'VANDALISM - DAMAGE TO PROPERTY']\n",
    "crime8 = df.groupby('Residential_Subdivision').Crime_Type.value_counts().unstack(fill_value=0).loc[:,'FRAUD - CREDIT CARD/ATM']\n",
    "crime9 = df.groupby('Residential_Subdivision').Crime_Type.value_counts().unstack(fill_value=0).loc[:,'FRAUD - ALL OTHER']\n",
    "crime10 = df.groupby('Residential_Subdivision').Crime_Type.value_counts().unstack(fill_value=0).loc[:,'ASSAULT - SIMPLE - ALL OTHER']"
   ]
  },
  {
   "cell_type": "code",
   "execution_count": 24,
   "metadata": {},
   "outputs": [],
   "source": [
    "#Criando lista para as variáveis criadas\n",
    "crimes = [crime1,crime2,crime3,crime4,crime5,crime6,crime7,crime8,crime9,crime10]\n",
    "\n",
    "#Adicionando colunas com os valores das variáveis criadas\n",
    "for x in crimes:\n",
    "    df_class = pd.concat([df_class, x], axis=1)"
   ]
  },
  {
   "cell_type": "code",
   "execution_count": 25,
   "metadata": {},
   "outputs": [],
   "source": [
    "#Excluindo a colunas de divisão devido ela ser o index do dataframe\n",
    "df_crimes = df_class.drop(['Residential_Subdivision'], axis=1)\n",
    "\n",
    "#Somando as colunas criadas e as deletando\n",
    "df_class['top_crimes'] = df_crimes.sum(axis=1)\n",
    "\n",
    "colum = ['LARCENY - ALL OTHER LARCENY','LARCENY - FROM MOTOR VEHICLE','LARCENY - SHOPLIFTING','VANDALISM','BURGLARY - FORCIBLE ENTRY',\n",
    "         'SIMPLE PHYSICAL ASSAULT','VANDALISM - DAMAGE TO PROPERTY','FRAUD - CREDIT CARD/ATM','FRAUD - ALL OTHER','ASSAULT - SIMPLE - ALL OTHER']\n",
    "\n",
    "for x in colum:\n",
    "    df_class = df_class.drop(columns=[x])"
   ]
  },
  {
   "cell_type": "code",
   "execution_count": 26,
   "metadata": {},
   "outputs": [
    {
     "name": "stdout",
     "output_type": "stream",
     "text": [
      "                              Residential_Subdivision  top_crimes\n",
      "CARY TOWNE CENTER                                4606        3363\n",
      "TCAP ZONE                                        3699        1644\n",
      "SOUTHEAST ZONE                                   2004         948\n",
      "CROSSROADS PLAZA SHOP CENTER                     1994        1358\n",
      "CENTRAL ZONE                                     1764         732\n"
     ]
    }
   ],
   "source": [
    "#Verificando o resultado\n",
    "print(df_class.head())"
   ]
  },
  {
   "cell_type": "code",
   "execution_count": 27,
   "metadata": {},
   "outputs": [],
   "source": [
    "#Adicionando colunas para os anos para realizar comparações\n",
    "anos = [2001,2010,2019]\n",
    "years = []\n",
    "for x in anos:\n",
    "    ano = df.groupby('Residential_Subdivision').year.value_counts().unstack(fill_value=0).loc[:,x]\n",
    "    years.append(ano)\n",
    "\n",
    "for x in years:\n",
    "    df_class = pd.concat([df_class, x], axis=1)"
   ]
  },
  {
   "cell_type": "code",
   "execution_count": 28,
   "metadata": {},
   "outputs": [
    {
     "name": "stdout",
     "output_type": "stream",
     "text": [
      "                               Residential_Subdivision  top_crimes  2001  \\\n",
      "CARY TOWNE CENTER                                 4606        3363   287   \n",
      "TCAP ZONE                                         3699        1644   183   \n",
      "SOUTHEAST ZONE                                    2004         948   128   \n",
      "CROSSROADS PLAZA SHOP CENTER                      1994        1358    98   \n",
      "CENTRAL ZONE                                      1764         732    96   \n",
      "...                                                ...         ...   ...   \n",
      "ESTATES AT YOUNG LANDING, THE                        1           1     0   \n",
      "BAINBRIDGE PLACE TOWNHOMES                           1           1     0   \n",
      "SHERWOOD AT REGENCY                                  1           1     0   \n",
      "VILLAGIO                                             1           0     0   \n",
      "PINEY PLAINS CHRISTIAN CHURCH                        1           1     0   \n",
      "\n",
      "                               2010  2019  var_01_19  var_01_10  var_10_19  \n",
      "CARY TOWNE CENTER               215   165  -0.425087  -0.250871  -0.232558  \n",
      "TCAP ZONE                       209    45  -0.754098   0.142077  -0.784689  \n",
      "SOUTHEAST ZONE                   63   100  -0.218750  -0.507812   0.587302  \n",
      "CROSSROADS PLAZA SHOP CENTER     91    88  -0.102041  -0.071429  -0.032967  \n",
      "CENTRAL ZONE                     81    96   0.000000  -0.156250   0.185185  \n",
      "...                             ...   ...        ...        ...        ...  \n",
      "ESTATES AT YOUNG LANDING, THE     0     0   0.000000   0.000000   0.000000  \n",
      "BAINBRIDGE PLACE TOWNHOMES        0     0   0.000000   0.000000   0.000000  \n",
      "SHERWOOD AT REGENCY               0     0   0.000000   0.000000   0.000000  \n",
      "VILLAGIO                          0     0   0.000000   0.000000   0.000000  \n",
      "PINEY PLAINS CHRISTIAN CHURCH     0     0   0.000000   0.000000   0.000000  \n",
      "\n",
      "[909 rows x 8 columns]\n"
     ]
    }
   ],
   "source": [
    "#Adicionando as variações de ocorrências entre anos\n",
    "\n",
    "#Criando as colunas de variações\n",
    "var_01_19 = (df_class[2019].div(df_class[2001]))-1\n",
    "var_01_10 = (df_class[2010].div(df_class[2001]))-1\n",
    "var_10_19 = (df_class[2019].div(df_class[2010]))-1\n",
    "\n",
    "#Juntando e adicionando os nomes\n",
    "vars = pd.concat([var_01_19, var_01_10], axis=1)\n",
    "vars = vars.rename(columns={0:'var_01_19'})\n",
    "vars = vars.rename(columns={1:'var_01_10'})\n",
    "vars = pd.concat([vars, var_10_19], axis=1)\n",
    "vars = vars.rename(columns={0:'var_10_19'})\n",
    "\n",
    "#Adicionando no dataframe\n",
    "df_class = pd.concat([df_class,vars],axis=1)\n",
    "\n",
    "#Adicionando zeros\n",
    "df_class = df_class.fillna(0)\n",
    "print(df_class)"
   ]
  },
  {
   "cell_type": "code",
   "execution_count": 29,
   "metadata": {},
   "outputs": [
    {
     "name": "stdout",
     "output_type": "stream",
     "text": [
      "                               Total_Crimes  %Top10_Crimes  2001  2010  2019  \\\n",
      "CARY TOWNE CENTER                      4606           3363   287   215   165   \n",
      "TCAP ZONE                              3699           1644   183   209    45   \n",
      "SOUTHEAST ZONE                         2004            948   128    63   100   \n",
      "CROSSROADS PLAZA SHOP CENTER           1994           1358    98    91    88   \n",
      "CENTRAL ZONE                           1764            732    96    81    96   \n",
      "...                                     ...            ...   ...   ...   ...   \n",
      "ESTATES AT YOUNG LANDING, THE             1              1     0     0     0   \n",
      "BAINBRIDGE PLACE TOWNHOMES                1              1     0     0     0   \n",
      "SHERWOOD AT REGENCY                       1              1     0     0     0   \n",
      "VILLAGIO                                  1              0     0     0     0   \n",
      "PINEY PLAINS CHRISTIAN CHURCH             1              1     0     0     0   \n",
      "\n",
      "                               var_01_19  var_01_10  var_10_19  \n",
      "CARY TOWNE CENTER              -0.425087  -0.250871  -0.232558  \n",
      "TCAP ZONE                      -0.754098   0.142077  -0.784689  \n",
      "SOUTHEAST ZONE                 -0.218750  -0.507812   0.587302  \n",
      "CROSSROADS PLAZA SHOP CENTER   -0.102041  -0.071429  -0.032967  \n",
      "CENTRAL ZONE                    0.000000  -0.156250   0.185185  \n",
      "...                                  ...        ...        ...  \n",
      "ESTATES AT YOUNG LANDING, THE   0.000000   0.000000   0.000000  \n",
      "BAINBRIDGE PLACE TOWNHOMES      0.000000   0.000000   0.000000  \n",
      "SHERWOOD AT REGENCY             0.000000   0.000000   0.000000  \n",
      "VILLAGIO                        0.000000   0.000000   0.000000  \n",
      "PINEY PLAINS CHRISTIAN CHURCH   0.000000   0.000000   0.000000  \n",
      "\n",
      "[909 rows x 8 columns]\n"
     ]
    }
   ],
   "source": [
    "#Renomeando colunas\n",
    "df_class = df_class.rename(columns={'Residential_Subdivision':'Total_Crimes'})\n",
    "df_class = df_class.rename(columns={'top_crimes':'%Top10_Crimes'})\n",
    "print(df_class)"
   ]
  },
  {
   "cell_type": "code",
   "execution_count": 31,
   "metadata": {},
   "outputs": [
    {
     "data": {
      "image/png": "[encoded data removed]",
      "text/plain": [
       "<Figure size 748.8x514.8 with 1 Axes>"
      ]
     },
     "metadata": {
      "needs_background": "light"
     },
     "output_type": "display_data"
    }
   ],
   "source": [
    "#Verificando a disperção dos dados\n",
    "df_box = df_class.drop(['var_01_19','var_01_10','var_10_19'],axis=1)\n",
    "sb.boxplot(data=df_box)\n",
    "plt.show()\n",
    "#Muitos outliers causam o achatamento do boxplot"
   ]
  },
  {
   "cell_type": "code",
   "execution_count": 32,
   "metadata": {},
   "outputs": [
    {
     "data": {
      "image/png": "[encoded data removed]",
      "text/plain": [
       "<Figure size 748.8x514.8 with 1 Axes>"
      ]
     },
     "metadata": {
      "needs_background": "light"
     },
     "output_type": "display_data"
    }
   ],
   "source": [
    "#Eliminando outliers para melhor visualização\n",
    "df_box = df_box[df_box.Total_Crimes < 176]\n",
    "sb.boxplot(data=df_box)\n",
    "plt.show()"
   ]
  },
  {
   "cell_type": "markdown",
   "metadata": {},
   "source": [
    "#### Criando indicador de segurança"
   ]
  },
  {
   "cell_type": "code",
   "execution_count": 36,
   "metadata": {},
   "outputs": [],
   "source": [
    "#Criando função para classificação de nível de segurança das divisões residenciais\n",
    "def nivel_seg(row):\n",
    "    if row['Total_Crimes'] < 55 and row['var_10_19'] > row['var_01_10']:\n",
    "        return 1 #Segurança Alta'\n",
    "    if row['Total_Crimes'] < 55 and row['var_10_19'] < row['var_01_10']:\n",
    "        return 2 #'Segurança Média'\n",
    "    if row['Total_Crimes'] > 55 and row['var_10_19'] > row['var_01_10']:\n",
    "        return 3 #'Segurança Baixa'\n",
    "    if row['Total_Crimes'] > 55 and row['var_10_19'] < row['var_01_10']:\n",
    "        return 4 #'Inseguro'\n",
    "    else:\n",
    "        return 0 # 'Neutro'"
   ]
  },
  {
   "cell_type": "code",
   "execution_count": 37,
   "metadata": {},
   "outputs": [
    {
     "name": "stdout",
     "output_type": "stream",
     "text": [
      "2    274\n",
      "4    235\n",
      "0    179\n",
      "1    147\n",
      "3     74\n",
      "Name: Ind_Segurança, dtype: int64\n"
     ]
    }
   ],
   "source": [
    "#Aplicando a função\n",
    "df_class['Ind_Segurança'] = df_class.apply(nivel_seg, axis=1)\n",
    "\n",
    "#Verificando a distribuição das categorias\n",
    "print(df_class['Ind_Segurança'].value_counts())"
   ]
  },
  {
   "cell_type": "code",
   "execution_count": 45,
   "metadata": {},
   "outputs": [],
   "source": [
    "#Verificando valores infinitos\n",
    "df_class = df_class.replace([np.inf, -np.inf], 0)"
   ]
  },
  {
   "cell_type": "code",
   "execution_count": 46,
   "metadata": {},
   "outputs": [
    {
     "name": "stdout",
     "output_type": "stream",
     "text": [
      "    Residential_Subdivision        Residential_Subdivision  Total_Crimes  \\\n",
      "0                         0              CARY TOWNE CENTER          4606   \n",
      "1                         1                      TCAP ZONE          3699   \n",
      "2                         2                 SOUTHEAST ZONE          2004   \n",
      "3                         3   CROSSROADS PLAZA SHOP CENTER          1994   \n",
      "4                         4                   CENTRAL ZONE          1764   \n",
      "..                      ...                            ...           ...   \n",
      "904                     904  ESTATES AT YOUNG LANDING, THE             1   \n",
      "905                     905     BAINBRIDGE PLACE TOWNHOMES             1   \n",
      "906                     906            SHERWOOD AT REGENCY             1   \n",
      "907                     907                       VILLAGIO             1   \n",
      "908                     908  PINEY PLAINS CHRISTIAN CHURCH             1   \n",
      "\n",
      "     %Top10_Crimes  2001  2010  2019  var_01_19  var_01_10  var_10_19  \\\n",
      "0             3363   287   215   165  -0.425087  -0.250871  -0.232558   \n",
      "1             1644   183   209    45  -0.754098   0.142077  -0.784689   \n",
      "2              948   128    63   100  -0.218750  -0.507812   0.587302   \n",
      "3             1358    98    91    88  -0.102041  -0.071429  -0.032967   \n",
      "4              732    96    81    96   0.000000  -0.156250   0.185185   \n",
      "..             ...   ...   ...   ...        ...        ...        ...   \n",
      "904              1     0     0     0   0.000000   0.000000   0.000000   \n",
      "905              1     0     0     0   0.000000   0.000000   0.000000   \n",
      "906              1     0     0     0   0.000000   0.000000   0.000000   \n",
      "907              0     0     0     0   0.000000   0.000000   0.000000   \n",
      "908              1     0     0     0   0.000000   0.000000   0.000000   \n",
      "\n",
      "     Ind_Segurança  \n",
      "0                3  \n",
      "1                4  \n",
      "2                3  \n",
      "3                3  \n",
      "4                3  \n",
      "..             ...  \n",
      "904              0  \n",
      "905              0  \n",
      "906              0  \n",
      "907              0  \n",
      "908              0  \n",
      "\n",
      "[909 rows x 11 columns]\n"
     ]
    }
   ],
   "source": [
    "#Transformando Index em Coluna de Subdivisão Residencial e resetando o index\n",
    "df_class = df_class.reset_index()\n",
    "df_class = df_class.rename(columns={'index':'Residential_Subdivision'})\n",
    "print(df_class)"
   ]
  },
  {
   "cell_type": "markdown",
   "metadata": {},
   "source": [
    "### Parte 3 - Algoritmo de Classificação"
   ]
  },
  {
   "cell_type": "markdown",
   "metadata": {},
   "source": [
    "Parte 3.1 - Algoritmo Random Forest"
   ]
  },
  {
   "cell_type": "code",
   "execution_count": 40,
   "metadata": {},
   "outputs": [],
   "source": [
    "#Importando os pacotes a serem usados\n",
    "from sklearn.ensemble import RandomForestClassifier\n",
    "from sklearn.model_selection import train_test_split"
   ]
  },
  {
   "cell_type": "code",
   "execution_count": 47,
   "metadata": {},
   "outputs": [],
   "source": [
    "#Criando elementos de feature e de target\n",
    "df_feature = df_class.drop(['Residential_Subdivision',2001,2010,2019,'Ind_Segurança'],axis=1)\n",
    "df_target = df_class['Ind_Segurança']"
   ]
  },
  {
   "cell_type": "code",
   "execution_count": 48,
   "metadata": {},
   "outputs": [
    {
     "data": {
      "text/plain": [
       "RandomForestClassifier()"
      ]
     },
     "execution_count": 48,
     "metadata": {},
     "output_type": "execute_result"
    }
   ],
   "source": [
    "#Criando o Modelo de Classificação usando Random Forest\n",
    "clf = RandomForestClassifier()\n",
    "clf.fit(df_feature,df_target)"
   ]
  },
  {
   "cell_type": "code",
   "execution_count": 49,
   "metadata": {},
   "outputs": [
    {
     "name": "stdout",
     "output_type": "stream",
     "text": [
      "Importância de cada Featured\n",
      "[0.33529755 0.2130934  0.05281601 0.1182379  0.28055514]\n"
     ]
    }
   ],
   "source": [
    "#Importância de cada feature\n",
    "print('Importância de cada Featured')\n",
    "print(clf.feature_importances_)"
   ]
  },
  {
   "cell_type": "code",
   "execution_count": 50,
   "metadata": {},
   "outputs": [
    {
     "name": "stdout",
     "output_type": "stream",
     "text": [
      "[3 4 3 3 3 3 3 4 3]\n",
      "[[0.   0.   0.   0.69 0.31]\n",
      " [0.   0.   0.   0.09 0.91]\n",
      " [0.   0.   0.   0.99 0.01]\n",
      " [0.   0.   0.   0.96 0.04]\n",
      " [0.   0.   0.   0.96 0.04]\n",
      " [0.   0.   0.   0.98 0.02]\n",
      " [0.   0.   0.   0.98 0.02]\n",
      " [0.   0.   0.   0.09 0.91]\n",
      " [0.   0.   0.   0.99 0.01]]\n"
     ]
    }
   ],
   "source": [
    "#Fazendo predição\n",
    "print(clf.predict(df_feature[0:9]))\n",
    "print(clf.predict_proba(df_feature[0:9]))"
   ]
  },
  {
   "cell_type": "code",
   "execution_count": 51,
   "metadata": {},
   "outputs": [],
   "source": [
    "#Dividindo o dataset (80/20)\n",
    "feature_train, feature_test, target_train, target_test = train_test_split(df_feature,df_target, test_size=0.2)"
   ]
  },
  {
   "cell_type": "code",
   "execution_count": 52,
   "metadata": {},
   "outputs": [
    {
     "data": {
      "text/plain": [
       "RandomForestClassifier()"
      ]
     },
     "execution_count": 52,
     "metadata": {},
     "output_type": "execute_result"
    }
   ],
   "source": [
    "#Reconstruindo Random Forest\n",
    "clf.fit(feature_train,target_train)"
   ]
  },
  {
   "cell_type": "code",
   "execution_count": 53,
   "metadata": {},
   "outputs": [
    {
     "name": "stdout",
     "output_type": "stream",
     "text": [
      "Predições do datatest\n",
      "[4 1]\n",
      "82     4\n",
      "463    1\n",
      "Name: Ind_Segurança, dtype: int64\n",
      "Acurácia do Random Forest\n",
      "0.8131868131868132\n"
     ]
    }
   ],
   "source": [
    "#Fazendo predição\n",
    "print('Predições do datatest')\n",
    "print(clf.predict(feature_test[0:2]))\n",
    "print(target_test[0:2])\n",
    "\n",
    "print('Acurácia do Random Forest')\n",
    "print(clf.score(feature_test,target_test))\n",
    "Para um primeiro modelo - 80% de acurácia é considerado excelente"
   ]
  },
  {
   "cell_type": "markdown",
   "metadata": {},
   "source": [
    "Para um primeiro modelo - 80% de acurácia é considerado excelente"
   ]
  },
  {
   "cell_type": "markdown",
   "metadata": {},
   "source": [
    "Parte 3.2 - Algoritmo Support Vector Machine (SVM)"
   ]
  },
  {
   "cell_type": "code",
   "execution_count": 56,
   "metadata": {},
   "outputs": [],
   "source": [
    "#Importando os pacotes\n",
    "from sklearn.svm import SVC"
   ]
  },
  {
   "cell_type": "code",
   "execution_count": 57,
   "metadata": {},
   "outputs": [
    {
     "data": {
      "text/plain": [
       "SVC()"
      ]
     },
     "execution_count": 57,
     "metadata": {},
     "output_type": "execute_result"
    }
   ],
   "source": [
    "#Criando o modelo\n",
    "cls = SVC()\n",
    "cls.fit(feature_train,target_train)"
   ]
  },
  {
   "cell_type": "code",
   "execution_count": 58,
   "metadata": {},
   "outputs": [
    {
     "name": "stdout",
     "output_type": "stream",
     "text": [
      "Acurácia do SVM\n",
      "0.521978021978022\n"
     ]
    }
   ],
   "source": [
    "#Verificando a acurácia do modelo\n",
    "print('Acurácia do SVM')\n",
    "print(cls.score(feature_test,target_test))"
   ]
  },
  {
   "cell_type": "markdown",
   "metadata": {},
   "source": [
    "Parte 3.3 - Algoritmo K-Nearest Neighbours"
   ]
  },
  {
   "cell_type": "code",
   "execution_count": 55,
   "metadata": {},
   "outputs": [],
   "source": [
    "#Importando os pacotes\n",
    "from sklearn.preprocessing import StandardScaler\n",
    "from sklearn.neighbors import KNeighborsClassifier\n",
    "from sklearn.metrics import confusion_matrix\n",
    "from sklearn.metrics import f1_score"
   ]
  },
  {
   "cell_type": "code",
   "execution_count": 59,
   "metadata": {},
   "outputs": [],
   "source": [
    "#Transformando os dados para caberem no modelo\n",
    "sc_feature = StandardScaler()\n",
    "feature_train = sc_feature.fit_transform(feature_train)\n",
    "feature_test = sc_feature.transform(feature_test)"
   ]
  },
  {
   "cell_type": "code",
   "execution_count": 60,
   "metadata": {},
   "outputs": [
    {
     "name": "stdout",
     "output_type": "stream",
     "text": [
      "Raiz Quadrada de datatest para estipular o valor de k\n",
      "13.490737563232042\n"
     ]
    }
   ],
   "source": [
    "#Estipulando o valor de K\n",
    "import math\n",
    "print('Raiz Quadrada de datatest para estipular o valor de k')\n",
    "print(math.sqrt(len(target_test)))"
   ]
  },
  {
   "cell_type": "code",
   "execution_count": 61,
   "metadata": {},
   "outputs": [
    {
     "data": {
      "text/plain": [
       "KNeighborsClassifier(metric='euclidean', n_neighbors=13)"
      ]
     },
     "execution_count": 61,
     "metadata": {},
     "output_type": "execute_result"
    }
   ],
   "source": [
    "#Criando o modelo inicial\n",
    "clk = KNeighborsClassifier(n_neighbors=13, p=2,metric=\"euclidean\")\n",
    "clk.fit(feature_train,target_train)"
   ]
  },
  {
   "cell_type": "code",
   "execution_count": 62,
   "metadata": {},
   "outputs": [],
   "source": [
    "#Realizando as predições\n",
    "feature_pred = clk.predict((feature_test))"
   ]
  },
  {
   "cell_type": "code",
   "execution_count": 63,
   "metadata": {},
   "outputs": [
    {
     "name": "stdout",
     "output_type": "stream",
     "text": [
      "[[28  8  1  0  0]\n",
      " [16 17  2  1  0]\n",
      " [ 4  2 39  0  4]\n",
      " [ 0  1  2  5  2]\n",
      " [ 1  0  9  2 38]]\n"
     ]
    }
   ],
   "source": [
    "#Verificando a matrix de confusão (Mostra o número de acertos e falsos acertos)\n",
    "cm = confusion_matrix(target_test, feature_pred)\n",
    "print(cm)"
   ]
  },
  {
   "cell_type": "code",
   "execution_count": 64,
   "metadata": {},
   "outputs": [
    {
     "name": "stdout",
     "output_type": "stream",
     "text": [
      "Acurácia do K-Neighbours\n",
      "0.6978021978021978\n"
     ]
    }
   ],
   "source": [
    "print('Acurácia do K-Neighbours')\n",
    "print(clk.score(feature_test,target_test))"
   ]
  },
  {
   "cell_type": "markdown",
   "metadata": {},
   "source": [
    "## Fim\n",
    "Conseguimos verificar que o melhor modelo para o exemplo proposto foi o Random Forest com \n",
    "precisão de 81%.\n"
   ]
  }
 ],
 "metadata": {
  "kernelspec": {
   "display_name": "Python 3",
   "language": "python",
   "name": "python3"
  },
  "language_info": {
   "codemirror_mode": {
    "name": "ipython",
    "version": 3
   },
   "file_extension": ".py",
   "mimetype": "text/x-python",
   "name": "python",
   "nbconvert_exporter": "python",
   "pygments_lexer": "ipython3",
   "version": "3.7.6"
  }
 },
 "nbformat": 4,
 "nbformat_minor": 4
}
